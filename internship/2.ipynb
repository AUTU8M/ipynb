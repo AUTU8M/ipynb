{
 "cells": [
  {
   "cell_type": "code",
   "execution_count": 8,
   "metadata": {},
   "outputs": [
    {
     "name": "stdout",
     "output_type": "stream",
     "text": [
      "Canon\n"
     ]
    }
   ],
   "source": [
    "first=input(\"enter the first namne\")\n",
    "second=input(\"enter the middle name\")\n",
    "third=input(\"enter the last name\")\n",
    "if(len(first+second+third)<=15):\n",
    "    print(\"Canon\")\n",
    "else:\n",
    "    print(\"Non-canon\")\n",
    "    "
   ]
  },
  {
   "cell_type": "code",
   "execution_count": 9,
   "metadata": {},
   "outputs": [
    {
     "name": "stdout",
     "output_type": "stream",
     "text": [
      "the total weekly sales is:783Rs.\n"
     ]
    }
   ],
   "source": [
    "#the sales for the day folowing \n",
    "mon,tue,wed,thu,fri,sat,sun=123,122,120,127,90,68,133\n",
    "print(\"the total weekly sales is:\"+ str(mon+tue+wed+thu+fri+sat+sun) +\"Rs.\")"
   ]
  },
  {
   "cell_type": "code",
   "execution_count": 10,
   "metadata": {},
   "outputs": [
    {
     "data": {
      "text/plain": [
       "'AILABS WELCOMES YOU'"
      ]
     },
     "execution_count": 10,
     "metadata": {},
     "output_type": "execute_result"
    }
   ],
   "source": [
    "my_string= \"Ailabs welcomes you\"\n",
    "my_string.upper()\n"
   ]
  },
  {
   "cell_type": "code",
   "execution_count": 11,
   "metadata": {},
   "outputs": [
    {
     "data": {
      "text/plain": [
       "0"
      ]
     },
     "execution_count": 11,
     "metadata": {},
     "output_type": "execute_result"
    }
   ],
   "source": [
    "my_string.find('A')\n"
   ]
  },
  {
   "cell_type": "code",
   "execution_count": 12,
   "metadata": {},
   "outputs": [
    {
     "name": "stdout",
     "output_type": "stream",
     "text": [
      "thea value of a is 5 and b is 6\n"
     ]
    }
   ],
   "source": [
    "a,b=5,6\n",
    "print(\"thea value of a is {} and b is {}\".format(a,b))"
   ]
  },
  {
   "cell_type": "code",
   "execution_count": 13,
   "metadata": {},
   "outputs": [],
   "source": [
    "#ordered means which came first\n",
    "#order means the order will be preserved\n",
    "#unordered means the order will be not be preserved ex. sets\n",
    "#devide and concur approch is used when to perform tasks optimally\n",
    "#type of function: enbuild and predefined"
   ]
  },
  {
   "cell_type": "code",
   "execution_count": 14,
   "metadata": {},
   "outputs": [
    {
     "data": {
      "text/plain": [
       "[5, 12, 23, 23, 34, 43, 64, 67]"
      ]
     },
     "execution_count": 14,
     "metadata": {},
     "output_type": "execute_result"
    }
   ],
   "source": [
    "s=[23,43,23,5,34,64,12,67]\n",
    "s.sort()#only for sorting s.sort() is used\n",
    "sorted(s)\n",
    "\n"
   ]
  },
  {
   "cell_type": "code",
   "execution_count": 15,
   "metadata": {},
   "outputs": [
    {
     "data": {
      "text/plain": [
       "5"
      ]
     },
     "execution_count": 15,
     "metadata": {},
     "output_type": "execute_result"
    }
   ],
   "source": [
    "min(s)"
   ]
  },
  {
   "cell_type": "code",
   "execution_count": 16,
   "metadata": {},
   "outputs": [
    {
     "data": {
      "text/plain": [
       "67"
      ]
     },
     "execution_count": 16,
     "metadata": {},
     "output_type": "execute_result"
    }
   ],
   "source": [
    "max(s)"
   ]
  }
 ],
 "metadata": {
  "kernelspec": {
   "display_name": "venv",
   "language": "python",
   "name": "python3"
  },
  "language_info": {
   "codemirror_mode": {
    "name": "ipython",
    "version": 3
   },
   "file_extension": ".py",
   "mimetype": "text/x-python",
   "name": "python",
   "nbconvert_exporter": "python",
   "pygments_lexer": "ipython3",
   "version": "3.10.9"
  },
  "orig_nbformat": 4
 },
 "nbformat": 4,
 "nbformat_minor": 2
}
