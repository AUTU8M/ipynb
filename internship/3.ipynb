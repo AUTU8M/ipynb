{
 "cells": [
  {
   "cell_type": "code",
   "execution_count": null,
   "metadata": {},
   "outputs": [],
   "source": [
    "'''so in this following code i've done the assignment given on teh thrid day'''\n",
    "import random\n",
    "def play_guessing_game():\n",
    "    number = random.randint(1, 99)\n",
    "    chances = 5\n",
    "    print(\"you have to choose the number 1 and 99.\")\n",
    "    print(\"You have 5 chances to guess the correct number.\")\n",
    "    while (chances > 0):\n",
    "        guess = int(input(\"Enter your guess: \"))\n",
    "\n",
    "        if guess == number:\n",
    "            print(\"Congratulations! You guessed the correct number.\")\n",
    "            return\n",
    "        elif guess < number:\n",
    "            print(\"Too low! Try again.\")\n",
    "        else:\n",
    "            print(\"Too high! Try again.\")\n",
    "\n",
    "        chances = chances-1\n",
    "        print(\"Chances remaining:\", chances)\n",
    "\n",
    "    print(\"Game over! You ran out of chances. The nudmber was:\", number)\n",
    "\n",
    "play_guessing_game()\n"
   ]
  }
 ],
 "metadata": {
  "kernelspec": {
   "display_name": "venv",
   "language": "python",
   "name": "python3"
  },
  "language_info": {
   "codemirror_mode": {
    "name": "ipython",
    "version": 3
   },
   "file_extension": ".py",
   "mimetype": "text/x-python",
   "name": "python",
   "nbconvert_exporter": "python",
   "pygments_lexer": "ipython3",
   "version": "3.10.9"
  },
  "orig_nbformat": 4
 },
 "nbformat": 4,
 "nbformat_minor": 2
}
