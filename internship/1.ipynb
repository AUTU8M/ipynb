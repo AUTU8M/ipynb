{
 "cells": [
  {
   "cell_type": "code",
   "execution_count": null,
   "metadata": {},
   "outputs": [],
   "source": [
    "marks = int(input(\"Enter the student's marks: \"))\n",
    "\n",
    "if marks >= 91 and marks <= 95:\n",
    "    grade = \"A+\"\n",
    "elif marks >= 81 and marks <= 90:\n",
    "    grade = \"A\"\n",
    "elif marks >=71 and marks <= 80:\n",
    "    grade = \"B+\"\n",
    "elif marks >=61 and marks <= 70:\n",
    "    grade = \"B\"\n",
    "elif marks >=51 and marks <= 60:\n",
    "    grade = \"c+\"\n",
    "elif marks >=41 and marks <= 50:\n",
    "    grade = \"c\"\n",
    "elif marks >=31 and marks <= 40:\n",
    "    grade = \"D\"\n",
    "elif marks < 40:\n",
    "    grade = \"Fail\"\n",
    "else:\n",
    "    grade = \"enter proper grades\"\n",
    "\n",
    "print(\"Grade: \" + grade)\n",
    "print(\"hello world\")"
   ]
  }
 ],
 "metadata": {
  "kernelspec": {
   "display_name": "venv",
   "language": "python",
   "name": "python3"
  },
  "language_info": {
   "codemirror_mode": {
    "name": "ipython",
    "version": 3
   },
   "file_extension": ".py",
   "mimetype": "text/x-python",
   "name": "python",
   "nbconvert_exporter": "python",
   "pygments_lexer": "ipython3",
   "version": "3.10.9"
  },
  "orig_nbformat": 4
 },
 "nbformat": 4,
 "nbformat_minor": 2
}
